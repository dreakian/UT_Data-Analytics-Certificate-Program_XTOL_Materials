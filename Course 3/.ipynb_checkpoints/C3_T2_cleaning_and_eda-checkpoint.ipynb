{
 "cells": [
  {
   "cell_type": "markdown",
   "id": "9d26b359-02dd-4d2d-9b2e-283feff76824",
   "metadata": {},
   "source": [
    "# This notebook contains data cleaning and EDA for two dataframes that will primarily be worked on in RStudio.\n",
    "# This notebook is meant to highlight any data cleaning and insights can be seen from the two dataframes.\n",
    "\n",
    "# This notebook should better inform what work will be done in RStudio."
   ]
  },
  {
   "cell_type": "code",
   "execution_count": 1,
   "id": "364ed3c4-6db0-4d2b-874a-aa5ada778674",
   "metadata": {},
   "outputs": [],
   "source": [
    "import pandas as pd\n",
    "import numpy as np\n",
    "import matplotlib.pyplot as plt\n",
    "import seaborn as sns"
   ]
  },
  {
   "cell_type": "code",
   "execution_count": 2,
   "id": "61fa3ca9-7365-4392-9c78-c6e02fcdff66",
   "metadata": {},
   "outputs": [],
   "source": [
    "df_train_set = pd.read_csv(\"CompleteResponses.csv\")\n",
    "\n",
    "df_test_set = pd.read_csv(\"SurveyIncomplete.csv\")"
   ]
  },
  {
   "cell_type": "code",
   "execution_count": 14,
   "id": "0df0b517-9c23-4e6a-b7de-a48b3b92bac5",
   "metadata": {},
   "outputs": [
    {
     "data": {
      "text/html": [
       "<div>\n",
       "<style scoped>\n",
       "    .dataframe tbody tr th:only-of-type {\n",
       "        vertical-align: middle;\n",
       "    }\n",
       "\n",
       "    .dataframe tbody tr th {\n",
       "        vertical-align: top;\n",
       "    }\n",
       "\n",
       "    .dataframe thead th {\n",
       "        text-align: right;\n",
       "    }\n",
       "</style>\n",
       "<table border=\"1\" class=\"dataframe\">\n",
       "  <thead>\n",
       "    <tr style=\"text-align: right;\">\n",
       "      <th></th>\n",
       "      <th>salary</th>\n",
       "      <th>age</th>\n",
       "      <th>elevel</th>\n",
       "      <th>car</th>\n",
       "      <th>zipcode</th>\n",
       "      <th>credit</th>\n",
       "      <th>brand</th>\n",
       "    </tr>\n",
       "  </thead>\n",
       "  <tbody>\n",
       "    <tr>\n",
       "      <th>count</th>\n",
       "      <td>9898.000000</td>\n",
       "      <td>9898.000000</td>\n",
       "      <td>9898.000000</td>\n",
       "      <td>9898.000000</td>\n",
       "      <td>9898.000000</td>\n",
       "      <td>9898.000000</td>\n",
       "      <td>9898.000000</td>\n",
       "    </tr>\n",
       "    <tr>\n",
       "      <th>mean</th>\n",
       "      <td>84870.862257</td>\n",
       "      <td>49.778642</td>\n",
       "      <td>1.982926</td>\n",
       "      <td>10.521924</td>\n",
       "      <td>4.040816</td>\n",
       "      <td>249175.966620</td>\n",
       "      <td>0.621742</td>\n",
       "    </tr>\n",
       "    <tr>\n",
       "      <th>std</th>\n",
       "      <td>37712.340836</td>\n",
       "      <td>17.596685</td>\n",
       "      <td>1.420562</td>\n",
       "      <td>5.771435</td>\n",
       "      <td>2.582058</td>\n",
       "      <td>145211.572531</td>\n",
       "      <td>0.484977</td>\n",
       "    </tr>\n",
       "    <tr>\n",
       "      <th>min</th>\n",
       "      <td>20000.000000</td>\n",
       "      <td>20.000000</td>\n",
       "      <td>0.000000</td>\n",
       "      <td>1.000000</td>\n",
       "      <td>0.000000</td>\n",
       "      <td>0.000000</td>\n",
       "      <td>0.000000</td>\n",
       "    </tr>\n",
       "    <tr>\n",
       "      <th>25%</th>\n",
       "      <td>52082.106040</td>\n",
       "      <td>35.000000</td>\n",
       "      <td>1.000000</td>\n",
       "      <td>6.000000</td>\n",
       "      <td>2.000000</td>\n",
       "      <td>120806.813900</td>\n",
       "      <td>0.000000</td>\n",
       "    </tr>\n",
       "    <tr>\n",
       "      <th>50%</th>\n",
       "      <td>84949.735155</td>\n",
       "      <td>50.000000</td>\n",
       "      <td>2.000000</td>\n",
       "      <td>11.000000</td>\n",
       "      <td>4.000000</td>\n",
       "      <td>250607.146100</td>\n",
       "      <td>1.000000</td>\n",
       "    </tr>\n",
       "    <tr>\n",
       "      <th>75%</th>\n",
       "      <td>117162.043375</td>\n",
       "      <td>65.000000</td>\n",
       "      <td>3.000000</td>\n",
       "      <td>15.750000</td>\n",
       "      <td>6.000000</td>\n",
       "      <td>374639.701800</td>\n",
       "      <td>1.000000</td>\n",
       "    </tr>\n",
       "    <tr>\n",
       "      <th>max</th>\n",
       "      <td>150000.000000</td>\n",
       "      <td>80.000000</td>\n",
       "      <td>4.000000</td>\n",
       "      <td>20.000000</td>\n",
       "      <td>8.000000</td>\n",
       "      <td>500000.000000</td>\n",
       "      <td>1.000000</td>\n",
       "    </tr>\n",
       "  </tbody>\n",
       "</table>\n",
       "</div>"
      ],
      "text/plain": [
       "              salary          age       elevel          car      zipcode  \\\n",
       "count    9898.000000  9898.000000  9898.000000  9898.000000  9898.000000   \n",
       "mean    84870.862257    49.778642     1.982926    10.521924     4.040816   \n",
       "std     37712.340836    17.596685     1.420562     5.771435     2.582058   \n",
       "min     20000.000000    20.000000     0.000000     1.000000     0.000000   \n",
       "25%     52082.106040    35.000000     1.000000     6.000000     2.000000   \n",
       "50%     84949.735155    50.000000     2.000000    11.000000     4.000000   \n",
       "75%    117162.043375    65.000000     3.000000    15.750000     6.000000   \n",
       "max    150000.000000    80.000000     4.000000    20.000000     8.000000   \n",
       "\n",
       "              credit        brand  \n",
       "count    9898.000000  9898.000000  \n",
       "mean   249175.966620     0.621742  \n",
       "std    145211.572531     0.484977  \n",
       "min         0.000000     0.000000  \n",
       "25%    120806.813900     0.000000  \n",
       "50%    250607.146100     1.000000  \n",
       "75%    374639.701800     1.000000  \n",
       "max    500000.000000     1.000000  "
      ]
     },
     "execution_count": 14,
     "metadata": {},
     "output_type": "execute_result"
    }
   ],
   "source": [
    "df_train_set.describe()"
   ]
  },
  {
   "cell_type": "code",
   "execution_count": 15,
   "id": "12d6c896-7773-416c-ac66-e696337d033e",
   "metadata": {},
   "outputs": [
    {
     "name": "stdout",
     "output_type": "stream",
     "text": [
      "<class 'pandas.core.frame.DataFrame'>\n",
      "RangeIndex: 9898 entries, 0 to 9897\n",
      "Data columns (total 7 columns):\n",
      " #   Column   Non-Null Count  Dtype  \n",
      "---  ------   --------------  -----  \n",
      " 0   salary   9898 non-null   float64\n",
      " 1   age      9898 non-null   int64  \n",
      " 2   elevel   9898 non-null   int64  \n",
      " 3   car      9898 non-null   int64  \n",
      " 4   zipcode  9898 non-null   int64  \n",
      " 5   credit   9898 non-null   float64\n",
      " 6   brand    9898 non-null   int64  \n",
      "dtypes: float64(2), int64(5)\n",
      "memory usage: 541.4 KB\n"
     ]
    }
   ],
   "source": [
    "df_train_set.info()"
   ]
  },
  {
   "cell_type": "code",
   "execution_count": 16,
   "id": "061eafe7-418c-4996-abc6-ebc4efefcd02",
   "metadata": {},
   "outputs": [
    {
     "data": {
      "text/plain": [
       "False    9898\n",
       "dtype: int64"
      ]
     },
     "execution_count": 16,
     "metadata": {},
     "output_type": "execute_result"
    }
   ],
   "source": [
    "df_train_set.duplicated().value_counts()"
   ]
  },
  {
   "cell_type": "code",
   "execution_count": 17,
   "id": "c52fe413-49cd-4e31-ab11-fbdd20b37251",
   "metadata": {},
   "outputs": [
    {
     "data": {
      "text/plain": [
       "salary     0\n",
       "age        0\n",
       "elevel     0\n",
       "car        0\n",
       "zipcode    0\n",
       "credit     0\n",
       "brand      0\n",
       "dtype: int64"
      ]
     },
     "execution_count": 17,
     "metadata": {},
     "output_type": "execute_result"
    }
   ],
   "source": [
    "df_train_set.isnull().sum()"
   ]
  },
  {
   "cell_type": "code",
   "execution_count": 19,
   "id": "c1dbda95-1cf7-4ee4-b260-03f61ef58aba",
   "metadata": {},
   "outputs": [
    {
     "data": {
      "text/plain": [
       "<AxesSubplot:>"
      ]
     },
     "execution_count": 19,
     "metadata": {},
     "output_type": "execute_result"
    },
    {
     "data": {
      "image/png": "[encoded data removed]",
      "text/plain": [
       "<Figure size 432x288 with 1 Axes>"
      ]
     },
     "metadata": {
      "needs_background": "light"
     },
     "output_type": "display_data"
    }
   ],
   "source": [
    "df_train_set[\"salary\"].hist()"
   ]
  },
  {
   "cell_type": "code",
   "execution_count": 59,
   "id": "b51a2c55-30dc-434b-93a0-a92abced1ea6",
   "metadata": {},
   "outputs": [
    {
     "data": {
      "text/plain": [
       "<AxesSubplot:>"
      ]
     },
     "execution_count": 59,
     "metadata": {},
     "output_type": "execute_result"
    },
    {
     "data": {
      "image/png": "[encoded data removed]",
      "text/plain": [
       "<Figure size 432x288 with 1 Axes>"
      ]
     },
     "metadata": {
      "needs_background": "light"
     },
     "output_type": "display_data"
    }
   ],
   "source": [
    "df_train_set[\"credit\"].hist()"
   ]
  },
  {
   "cell_type": "code",
   "execution_count": 20,
   "id": "e0c46952-b8e3-4e29-a2ca-31e9c9e92ef7",
   "metadata": {},
   "outputs": [
    {
     "data": {
      "text/plain": [
       "<AxesSubplot:>"
      ]
     },
     "execution_count": 20,
     "metadata": {},
     "output_type": "execute_result"
    },
    {
     "data": {
      "image/png": "[encoded data removed]",
      "text/plain": [
       "<Figure size 432x288 with 1 Axes>"
      ]
     },
     "metadata": {
      "needs_background": "light"
     },
     "output_type": "display_data"
    }
   ],
   "source": [
    "df_train_set[\"age\"].hist()"
   ]
  },
  {
   "cell_type": "code",
   "execution_count": 42,
   "id": "15e85ee0-c31a-4302-84c7-cb21ebc99c05",
   "metadata": {},
   "outputs": [
    {
     "data": {
      "text/plain": [
       "<AxesSubplot:>"
      ]
     },
     "execution_count": 42,
     "metadata": {},
     "output_type": "execute_result"
    },
    {
     "data": {
      "image/png": "[encoded data removed]",
      "text/plain": [
       "<Figure size 432x288 with 1 Axes>"
      ]
     },
     "metadata": {
      "needs_background": "light"
     },
     "output_type": "display_data"
    }
   ],
   "source": [
    "df_train_set[\"elevel\"].hist()"
   ]
  },
  {
   "cell_type": "code",
   "execution_count": 24,
   "id": "4f386597-0c0b-4373-8da0-666722fb7fed",
   "metadata": {},
   "outputs": [
    {
     "data": {
      "text/plain": [
       "15    542\n",
       "18    524\n",
       "8     511\n",
       "2     509\n",
       "17    508\n",
       "5     505\n",
       "10    500\n",
       "12    498\n",
       "7     495\n",
       "14    494\n",
       "1     492\n",
       "19    489\n",
       "3     488\n",
       "9     487\n",
       "20    484\n",
       "4     479\n",
       "6     477\n",
       "11    473\n",
       "13    473\n",
       "16    470\n",
       "Name: car, dtype: int64"
      ]
     },
     "execution_count": 24,
     "metadata": {},
     "output_type": "execute_result"
    }
   ],
   "source": [
    "# df[\"car\"] == 20\n",
    "# 484 people do not have one of the cars mentioned from the survey \n",
    "\n",
    "df_train_set[\"car\"].value_counts()"
   ]
  },
  {
   "cell_type": "code",
   "execution_count": 40,
   "id": "e169f2ce-a4db-46e2-a281-a613e4f3d860",
   "metadata": {},
   "outputs": [
    {
     "name": "stdout",
     "output_type": "stream",
     "text": [
      "brand  car\n",
      "0      20     187\n",
      "1      20     297\n",
      "Name: car, dtype: int64\n",
      "38.63636363636363\n",
      "61.36363636363637\n"
     ]
    }
   ],
   "source": [
    "print(df_train_set[\"car\"][df_train_set[\"car\"] == 20].groupby(df_train_set[\"brand\"]).value_counts())\n",
    "\n",
    "no_car_total = 484\n",
    "\n",
    "no_car_with_acer_percent = (187 / no_car_total) * 100\n",
    "\n",
    "no_car_with_sony_percent = (297 / no_car_total) * 100\n",
    "\n",
    "print(no_car_with_acer_percent)\n",
    "print(no_car_with_sony_percent)\n",
    "\n",
    "# 39% of people who didn't have one of the cars listed from the survey prefer Acer\n",
    "# 61% of people who didn't have one of the cars listed from the survey prefer Sony"
   ]
  },
  {
   "cell_type": "code",
   "execution_count": 54,
   "id": "44416565-dbfa-4df2-b1c3-e91474d406b9",
   "metadata": {},
   "outputs": [
    {
     "data": {
      "text/plain": [
       "6    1155\n",
       "8    1135\n",
       "2    1112\n",
       "5    1108\n",
       "4    1087\n",
       "0    1085\n",
       "7    1083\n",
       "3    1080\n",
       "1    1053\n",
       "Name: zipcode, dtype: int64"
      ]
     },
     "execution_count": 54,
     "metadata": {},
     "output_type": "execute_result"
    }
   ],
   "source": [
    "df_train_set[\"zipcode\"].value_counts()"
   ]
  },
  {
   "cell_type": "code",
   "execution_count": 56,
   "id": "6c66814f-3bd8-42c2-8d26-479402840d23",
   "metadata": {},
   "outputs": [
    {
     "name": "stdout",
     "output_type": "stream",
     "text": [
      "9898\n",
      "4455\n",
      "45.009092746009294\n"
     ]
    }
   ],
   "source": [
    "print(df_train_set[\"zipcode\"].value_counts().sum())\n",
    "\n",
    "total_central = 1112 + 1080 + 1108 + 1155\n",
    "\n",
    "print(total_central)\n",
    "\n",
    "total_zipcode = 9898\n",
    "\n",
    "total_central_percent = (total_central / total_zipcode) * 100\n",
    "\n",
    "print(total_central_percent)\n",
    "\n",
    "# 45% of people came from the Central region "
   ]
  },
  {
   "cell_type": "code",
   "execution_count": 57,
   "id": "9264e36d-52fd-4d17-936c-7524235ce45b",
   "metadata": {},
   "outputs": [
    {
     "data": {
      "text/html": [
       "<div>\n",
       "<style scoped>\n",
       "    .dataframe tbody tr th:only-of-type {\n",
       "        vertical-align: middle;\n",
       "    }\n",
       "\n",
       "    .dataframe tbody tr th {\n",
       "        vertical-align: top;\n",
       "    }\n",
       "\n",
       "    .dataframe thead th {\n",
       "        text-align: right;\n",
       "    }\n",
       "</style>\n",
       "<table border=\"1\" class=\"dataframe\">\n",
       "  <thead>\n",
       "    <tr style=\"text-align: right;\">\n",
       "      <th></th>\n",
       "      <th>salary</th>\n",
       "      <th>age</th>\n",
       "      <th>elevel</th>\n",
       "      <th>car</th>\n",
       "      <th>zipcode</th>\n",
       "      <th>credit</th>\n",
       "      <th>brand</th>\n",
       "    </tr>\n",
       "  </thead>\n",
       "  <tbody>\n",
       "    <tr>\n",
       "      <th>salary</th>\n",
       "      <td>1.000000</td>\n",
       "      <td>0.007979</td>\n",
       "      <td>-0.006620</td>\n",
       "      <td>-0.006091</td>\n",
       "      <td>-0.005471</td>\n",
       "      <td>-0.025127</td>\n",
       "      <td>0.206490</td>\n",
       "    </tr>\n",
       "    <tr>\n",
       "      <th>age</th>\n",
       "      <td>0.007979</td>\n",
       "      <td>1.000000</td>\n",
       "      <td>-0.005830</td>\n",
       "      <td>0.010246</td>\n",
       "      <td>0.003681</td>\n",
       "      <td>-0.004401</td>\n",
       "      <td>0.013713</td>\n",
       "    </tr>\n",
       "    <tr>\n",
       "      <th>elevel</th>\n",
       "      <td>-0.006620</td>\n",
       "      <td>-0.005830</td>\n",
       "      <td>1.000000</td>\n",
       "      <td>-0.000047</td>\n",
       "      <td>0.018095</td>\n",
       "      <td>0.002721</td>\n",
       "      <td>-0.004829</td>\n",
       "    </tr>\n",
       "    <tr>\n",
       "      <th>car</th>\n",
       "      <td>-0.006091</td>\n",
       "      <td>0.010246</td>\n",
       "      <td>-0.000047</td>\n",
       "      <td>1.000000</td>\n",
       "      <td>0.001527</td>\n",
       "      <td>-0.010329</td>\n",
       "      <td>0.005923</td>\n",
       "    </tr>\n",
       "    <tr>\n",
       "      <th>zipcode</th>\n",
       "      <td>-0.005471</td>\n",
       "      <td>0.003681</td>\n",
       "      <td>0.018095</td>\n",
       "      <td>0.001527</td>\n",
       "      <td>1.000000</td>\n",
       "      <td>0.004962</td>\n",
       "      <td>0.004665</td>\n",
       "    </tr>\n",
       "    <tr>\n",
       "      <th>credit</th>\n",
       "      <td>-0.025127</td>\n",
       "      <td>-0.004401</td>\n",
       "      <td>0.002721</td>\n",
       "      <td>-0.010329</td>\n",
       "      <td>0.004962</td>\n",
       "      <td>1.000000</td>\n",
       "      <td>0.005688</td>\n",
       "    </tr>\n",
       "    <tr>\n",
       "      <th>brand</th>\n",
       "      <td>0.206490</td>\n",
       "      <td>0.013713</td>\n",
       "      <td>-0.004829</td>\n",
       "      <td>0.005923</td>\n",
       "      <td>0.004665</td>\n",
       "      <td>0.005688</td>\n",
       "      <td>1.000000</td>\n",
       "    </tr>\n",
       "  </tbody>\n",
       "</table>\n",
       "</div>"
      ],
      "text/plain": [
       "           salary       age    elevel       car   zipcode    credit     brand\n",
       "salary   1.000000  0.007979 -0.006620 -0.006091 -0.005471 -0.025127  0.206490\n",
       "age      0.007979  1.000000 -0.005830  0.010246  0.003681 -0.004401  0.013713\n",
       "elevel  -0.006620 -0.005830  1.000000 -0.000047  0.018095  0.002721 -0.004829\n",
       "car     -0.006091  0.010246 -0.000047  1.000000  0.001527 -0.010329  0.005923\n",
       "zipcode -0.005471  0.003681  0.018095  0.001527  1.000000  0.004962  0.004665\n",
       "credit  -0.025127 -0.004401  0.002721 -0.010329  0.004962  1.000000  0.005688\n",
       "brand    0.206490  0.013713 -0.004829  0.005923  0.004665  0.005688  1.000000"
      ]
     },
     "execution_count": 57,
     "metadata": {},
     "output_type": "execute_result"
    }
   ],
   "source": [
    "df_train_set.corr()"
   ]
  },
  {
   "cell_type": "code",
   "execution_count": 58,
   "id": "1f66bade-2e47-4a50-afe6-e5e1609f6154",
   "metadata": {},
   "outputs": [
    {
     "data": {
      "text/html": [
       "<div>\n",
       "<style scoped>\n",
       "    .dataframe tbody tr th:only-of-type {\n",
       "        vertical-align: middle;\n",
       "    }\n",
       "\n",
       "    .dataframe tbody tr th {\n",
       "        vertical-align: top;\n",
       "    }\n",
       "\n",
       "    .dataframe thead th {\n",
       "        text-align: right;\n",
       "    }\n",
       "</style>\n",
       "<table border=\"1\" class=\"dataframe\">\n",
       "  <thead>\n",
       "    <tr style=\"text-align: right;\">\n",
       "      <th></th>\n",
       "      <th>salary</th>\n",
       "      <th>age</th>\n",
       "      <th>elevel</th>\n",
       "      <th>car</th>\n",
       "      <th>zipcode</th>\n",
       "      <th>credit</th>\n",
       "      <th>brand</th>\n",
       "    </tr>\n",
       "  </thead>\n",
       "  <tbody>\n",
       "    <tr>\n",
       "      <th>salary</th>\n",
       "      <td>1.422221e+09</td>\n",
       "      <td>5294.673339</td>\n",
       "      <td>-354.663986</td>\n",
       "      <td>-1325.640064</td>\n",
       "      <td>-532.753856</td>\n",
       "      <td>-1.376011e+08</td>\n",
       "      <td>3776.621188</td>\n",
       "    </tr>\n",
       "    <tr>\n",
       "      <th>age</th>\n",
       "      <td>5.294673e+03</td>\n",
       "      <td>309.643327</td>\n",
       "      <td>-0.145742</td>\n",
       "      <td>1.040571</td>\n",
       "      <td>0.167266</td>\n",
       "      <td>-1.124483e+04</td>\n",
       "      <td>0.117029</td>\n",
       "    </tr>\n",
       "    <tr>\n",
       "      <th>elevel</th>\n",
       "      <td>-3.546640e+02</td>\n",
       "      <td>-0.145742</td>\n",
       "      <td>2.017997</td>\n",
       "      <td>-0.000383</td>\n",
       "      <td>0.066373</td>\n",
       "      <td>5.612196e+02</td>\n",
       "      <td>-0.003327</td>\n",
       "    </tr>\n",
       "    <tr>\n",
       "      <th>car</th>\n",
       "      <td>-1.325640e+03</td>\n",
       "      <td>1.040571</td>\n",
       "      <td>-0.000383</td>\n",
       "      <td>33.309462</td>\n",
       "      <td>0.022749</td>\n",
       "      <td>-8.656634e+03</td>\n",
       "      <td>0.016579</td>\n",
       "    </tr>\n",
       "    <tr>\n",
       "      <th>zipcode</th>\n",
       "      <td>-5.327539e+02</td>\n",
       "      <td>0.167266</td>\n",
       "      <td>0.066373</td>\n",
       "      <td>0.022749</td>\n",
       "      <td>6.667021</td>\n",
       "      <td>1.860480e+03</td>\n",
       "      <td>0.005842</td>\n",
       "    </tr>\n",
       "    <tr>\n",
       "      <th>credit</th>\n",
       "      <td>-1.376011e+08</td>\n",
       "      <td>-11244.833498</td>\n",
       "      <td>561.219579</td>\n",
       "      <td>-8656.634132</td>\n",
       "      <td>1860.479521</td>\n",
       "      <td>2.108640e+10</td>\n",
       "      <td>400.604112</td>\n",
       "    </tr>\n",
       "    <tr>\n",
       "      <th>brand</th>\n",
       "      <td>3.776621e+03</td>\n",
       "      <td>0.117029</td>\n",
       "      <td>-0.003327</td>\n",
       "      <td>0.016579</td>\n",
       "      <td>0.005842</td>\n",
       "      <td>4.006041e+02</td>\n",
       "      <td>0.235203</td>\n",
       "    </tr>\n",
       "  </tbody>\n",
       "</table>\n",
       "</div>"
      ],
      "text/plain": [
       "               salary           age      elevel          car      zipcode  \\\n",
       "salary   1.422221e+09   5294.673339 -354.663986 -1325.640064  -532.753856   \n",
       "age      5.294673e+03    309.643327   -0.145742     1.040571     0.167266   \n",
       "elevel  -3.546640e+02     -0.145742    2.017997    -0.000383     0.066373   \n",
       "car     -1.325640e+03      1.040571   -0.000383    33.309462     0.022749   \n",
       "zipcode -5.327539e+02      0.167266    0.066373     0.022749     6.667021   \n",
       "credit  -1.376011e+08 -11244.833498  561.219579 -8656.634132  1860.479521   \n",
       "brand    3.776621e+03      0.117029   -0.003327     0.016579     0.005842   \n",
       "\n",
       "               credit        brand  \n",
       "salary  -1.376011e+08  3776.621188  \n",
       "age     -1.124483e+04     0.117029  \n",
       "elevel   5.612196e+02    -0.003327  \n",
       "car     -8.656634e+03     0.016579  \n",
       "zipcode  1.860480e+03     0.005842  \n",
       "credit   2.108640e+10   400.604112  \n",
       "brand    4.006041e+02     0.235203  "
      ]
     },
     "execution_count": 58,
     "metadata": {},
     "output_type": "execute_result"
    }
   ],
   "source": [
    "df_train_set.cov()"
   ]
  },
  {
   "cell_type": "code",
   "execution_count": 4,
   "id": "25ba1f12-c2ed-4590-931e-8d67502d6cb8",
   "metadata": {},
   "outputs": [
    {
     "data": {
      "text/plain": [
       "1    6154\n",
       "0    3744\n",
       "Name: brand, dtype: int64"
      ]
     },
     "execution_count": 4,
     "metadata": {},
     "output_type": "execute_result"
    }
   ],
   "source": [
    "df_train_set[\"brand\"].value_counts()"
   ]
  },
  {
   "cell_type": "code",
   "execution_count": 6,
   "id": "ceb9a0d8-5dd7-496e-8f0b-c71e9811a3cc",
   "metadata": {},
   "outputs": [
    {
     "data": {
      "text/plain": [
       "9898"
      ]
     },
     "execution_count": 6,
     "metadata": {},
     "output_type": "execute_result"
    }
   ],
   "source": [
    "df_train_set[\"brand\"].value_counts().sum()"
   ]
  },
  {
   "cell_type": "code",
   "execution_count": 5,
   "id": "14db224b-1e87-471d-aebe-d9fb9c8ceeea",
   "metadata": {},
   "outputs": [
    {
     "data": {
      "text/plain": [
       "0    4937\n",
       "1      63\n",
       "Name: brand, dtype: int64"
      ]
     },
     "execution_count": 5,
     "metadata": {},
     "output_type": "execute_result"
    }
   ],
   "source": [
    "df_test_set[\"brand\"].value_counts()"
   ]
  },
  {
   "cell_type": "code",
   "execution_count": 7,
   "id": "5bdf3ce1-6c78-4138-82cb-44de963c3286",
   "metadata": {},
   "outputs": [
    {
     "data": {
      "text/plain": [
       "5000"
      ]
     },
     "execution_count": 7,
     "metadata": {},
     "output_type": "execute_result"
    }
   ],
   "source": [
    "df_test_set[\"brand\"].value_counts().sum()"
   ]
  },
  {
   "cell_type": "code",
   "execution_count": null,
   "id": "c92908e9-e191-41cf-948d-a005246ee099",
   "metadata": {},
   "outputs": [],
   "source": []
  }
 ],
 "metadata": {
  "kernelspec": {
   "display_name": "Python 3",
   "language": "python",
   "name": "python3"
  },
  "language_info": {
   "codemirror_mode": {
    "name": "ipython",
    "version": 3
   },
   "file_extension": ".py",
   "mimetype": "text/x-python",
   "name": "python",
   "nbconvert_exporter": "python",
   "pygments_lexer": "ipython3",
   "version": "3.9.7"
  }
 },
 "nbformat": 4,
 "nbformat_minor": 5
}
